{
 "cells": [
  {
   "cell_type": "code",
   "execution_count": 5,
   "id": "71bb5f76-c7a4-44d6-9729-f3dae4e11eac",
   "metadata": {},
   "outputs": [],
   "source": [
    "import numpy as np\n",
    "data_set = np.loadtxt(\"HIVseries.csv\", delimiter = ',')"
   ]
  },
  {
   "cell_type": "code",
   "execution_count": null,
   "id": "0bae23cc-adfd-47cd-980b-8bdff62f1c3d",
   "metadata": {},
   "outputs": [],
   "source": []
  }
 ],
 "metadata": {
  "kernelspec": {
   "display_name": "Python 3 (ipykernel)",
   "language": "python",
   "name": "python3"
  },
  "language_info": {
   "codemirror_mode": {
    "name": "ipython",
    "version": 3
   },
   "file_extension": ".py",
   "mimetype": "text/x-python",
   "name": "python",
   "nbconvert_exporter": "python",
   "pygments_lexer": "ipython3",
   "version": "3.12.8"
  }
 },
 "nbformat": 4,
 "nbformat_minor": 5
}
